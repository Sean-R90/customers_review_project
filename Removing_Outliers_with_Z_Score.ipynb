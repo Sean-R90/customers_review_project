{
  "nbformat": 4,
  "nbformat_minor": 0,
  "metadata": {
    "colab": {
      "name": "Removing Outliers with Z-Score.ipynb",
      "provenance": [],
      "include_colab_link": true
    },
    "kernelspec": {
      "name": "python3",
      "display_name": "Python 3"
    }
  },
  "cells": [
    {
      "cell_type": "markdown",
      "metadata": {
        "id": "view-in-github",
        "colab_type": "text"
      },
      "source": [
        "<a href=\"https://colab.research.google.com/github/lucasmoratof/customers_review_project/blob/master/Removing_Outliers_with_Z_Score.ipynb\" target=\"_parent\"><img src=\"https://colab.research.google.com/assets/colab-badge.svg\" alt=\"Open In Colab\"/></a>"
      ]
    },
    {
      "cell_type": "markdown",
      "metadata": {
        "id": "mVM9nDxapUOs",
        "colab_type": "text"
      },
      "source": [
        "# How to deal with Outliers using Z-Score."
      ]
    },
    {
      "cell_type": "code",
      "metadata": {
        "id": "8tEKkb68pJ9E",
        "colab_type": "code",
        "colab": {}
      },
      "source": [
        "# Load libraries \n",
        "import pandas as pd\n",
        "import numpy as np\n",
        "import matplotlib.pyplot as plt\n",
        "import seaborn as sns\n",
        "from scipy import stats"
      ],
      "execution_count": 0,
      "outputs": []
    },
    {
      "cell_type": "code",
      "metadata": {
        "id": "mk5aJtYOq_ns",
        "colab_type": "code",
        "colab": {}
      },
      "source": [
        "# Load data and check first lines\n",
        "\n",
        "reviews = pd.read_csv('https://raw.githubusercontent.com/lucasmoratof/customers_review_project/master/reviews_for_cleaning.csv', index_col=0)"
      ],
      "execution_count": 0,
      "outputs": []
    },
    {
      "cell_type": "code",
      "metadata": {
        "id": "2DKJyqbKwrK3",
        "colab_type": "code",
        "colab": {
          "base_uri": "https://localhost:8080/",
          "height": 195
        },
        "outputId": "20f0afef-2e89-4fec-ad66-2d9008c9fb33"
      },
      "source": [
        "# checking first rows\n",
        "reviews.head()"
      ],
      "execution_count": 27,
      "outputs": [
        {
          "output_type": "execute_result",
          "data": {
            "text/html": [
              "<div>\n",
              "<style scoped>\n",
              "    .dataframe tbody tr th:only-of-type {\n",
              "        vertical-align: middle;\n",
              "    }\n",
              "\n",
              "    .dataframe tbody tr th {\n",
              "        vertical-align: top;\n",
              "    }\n",
              "\n",
              "    .dataframe thead th {\n",
              "        text-align: right;\n",
              "    }\n",
              "</style>\n",
              "<table border=\"1\" class=\"dataframe\">\n",
              "  <thead>\n",
              "    <tr style=\"text-align: right;\">\n",
              "      <th></th>\n",
              "      <th>order_status</th>\n",
              "      <th>delivery_in_days</th>\n",
              "      <th>product_id</th>\n",
              "      <th>product_category_name</th>\n",
              "      <th>product_photos_qty</th>\n",
              "      <th>price</th>\n",
              "      <th>freight_value</th>\n",
              "      <th>payment_type</th>\n",
              "      <th>payment_installments</th>\n",
              "      <th>customer_city</th>\n",
              "      <th>seller_id</th>\n",
              "      <th>is_good_review</th>\n",
              "    </tr>\n",
              "  </thead>\n",
              "  <tbody>\n",
              "    <tr>\n",
              "      <th>3</th>\n",
              "      <td>delivered</td>\n",
              "      <td>13.0</td>\n",
              "      <td>595fac2a385ac33a80bd5114aec74eb8</td>\n",
              "      <td>perfumery</td>\n",
              "      <td>1.0</td>\n",
              "      <td>118.7</td>\n",
              "      <td>22.76</td>\n",
              "      <td>boleto</td>\n",
              "      <td>1.0</td>\n",
              "      <td>barreiras</td>\n",
              "      <td>289cdb325fb7e7f891c38608bf9e0962</td>\n",
              "      <td>1</td>\n",
              "    </tr>\n",
              "    <tr>\n",
              "      <th>4</th>\n",
              "      <td>delivered</td>\n",
              "      <td>9.0</td>\n",
              "      <td>aa4383b373c6aca5d8797843e5594415</td>\n",
              "      <td>auto</td>\n",
              "      <td>1.0</td>\n",
              "      <td>159.9</td>\n",
              "      <td>19.22</td>\n",
              "      <td>credit_card</td>\n",
              "      <td>3.0</td>\n",
              "      <td>vianopolis</td>\n",
              "      <td>4869f7a5dfa277a7dca6462dcf3b52b2</td>\n",
              "      <td>1</td>\n",
              "    </tr>\n",
              "    <tr>\n",
              "      <th>5</th>\n",
              "      <td>delivered</td>\n",
              "      <td>13.0</td>\n",
              "      <td>d0b61bfb1de832b15ba9d266ca96e5b0</td>\n",
              "      <td>pet_shop</td>\n",
              "      <td>3.0</td>\n",
              "      <td>45.0</td>\n",
              "      <td>27.20</td>\n",
              "      <td>credit_card</td>\n",
              "      <td>1.0</td>\n",
              "      <td>sao goncalo do amarante</td>\n",
              "      <td>66922902710d126a0e7d26b0e3805106</td>\n",
              "      <td>1</td>\n",
              "    </tr>\n",
              "    <tr>\n",
              "      <th>6</th>\n",
              "      <td>delivered</td>\n",
              "      <td>2.0</td>\n",
              "      <td>65266b2da20d04dbe00c5c2d3bb7859e</td>\n",
              "      <td>stationery</td>\n",
              "      <td>4.0</td>\n",
              "      <td>19.9</td>\n",
              "      <td>8.72</td>\n",
              "      <td>credit_card</td>\n",
              "      <td>1.0</td>\n",
              "      <td>santo andre</td>\n",
              "      <td>2c9e548be18521d1c43cde1c582c6de8</td>\n",
              "      <td>1</td>\n",
              "    </tr>\n",
              "    <tr>\n",
              "      <th>7</th>\n",
              "      <td>delivered</td>\n",
              "      <td>16.0</td>\n",
              "      <td>060cb19345d90064d1015407193c233d</td>\n",
              "      <td>auto</td>\n",
              "      <td>1.0</td>\n",
              "      <td>147.9</td>\n",
              "      <td>27.36</td>\n",
              "      <td>credit_card</td>\n",
              "      <td>6.0</td>\n",
              "      <td>congonhinhas</td>\n",
              "      <td>8581055ce74af1daba164fdbd55a40de</td>\n",
              "      <td>1</td>\n",
              "    </tr>\n",
              "  </tbody>\n",
              "</table>\n",
              "</div>"
            ],
            "text/plain": [
              "  order_status  ...  is_good_review\n",
              "3    delivered  ...               1\n",
              "4    delivered  ...               1\n",
              "5    delivered  ...               1\n",
              "6    delivered  ...               1\n",
              "7    delivered  ...               1\n",
              "\n",
              "[5 rows x 12 columns]"
            ]
          },
          "metadata": {
            "tags": []
          },
          "execution_count": 27
        }
      ]
    },
    {
      "cell_type": "code",
      "metadata": {
        "id": "eIPt9Dph4zk-",
        "colab_type": "code",
        "colab": {
          "base_uri": "https://localhost:8080/",
          "height": 302
        },
        "outputId": "3835769f-8aad-496c-d4fb-ab90792d7600"
      },
      "source": [
        "reviews.info()"
      ],
      "execution_count": 59,
      "outputs": [
        {
          "output_type": "stream",
          "text": [
            "<class 'pandas.core.frame.DataFrame'>\n",
            "Int64Index: 84502 entries, 3 to 119150\n",
            "Data columns (total 12 columns):\n",
            "order_status             84502 non-null object\n",
            "delivery_in_days         84502 non-null float64\n",
            "product_id               84502 non-null object\n",
            "product_category_name    84502 non-null object\n",
            "product_photos_qty       84502 non-null float64\n",
            "price                    84502 non-null float64\n",
            "freight_value            84502 non-null float64\n",
            "payment_type             84502 non-null object\n",
            "payment_installments     84502 non-null float64\n",
            "customer_city            84502 non-null object\n",
            "seller_id                84502 non-null object\n",
            "is_good_review           84502 non-null int64\n",
            "dtypes: float64(5), int64(1), object(6)\n",
            "memory usage: 8.4+ MB\n"
          ],
          "name": "stdout"
        }
      ]
    },
    {
      "cell_type": "markdown",
      "metadata": {
        "id": "BtHfnMlB2ql6",
        "colab_type": "text"
      },
      "source": [
        "Before dealing with outliers, we need to make sure to have no null values on our dataset: "
      ]
    },
    {
      "cell_type": "code",
      "metadata": {
        "id": "8LRNTYTZ2Pae",
        "colab_type": "code",
        "colab": {
          "base_uri": "https://localhost:8080/",
          "height": 252
        },
        "outputId": "fbe7bc11-1212-479b-b19a-debcf4353076"
      },
      "source": [
        "# filling the delivery days with the mean value:\n",
        "reviews['delivery_in_days'].fillna(reviews['delivery_in_days'].mean(), inplace= True)\n",
        "\n",
        "# fill product photos with 0\n",
        "reviews['product_photos_qty'].fillna(value= 0, inplace=True)\n",
        "\n",
        "# Dropping all other rows with null values:\n",
        "reviews.dropna(how='any', axis=0, inplace=True)\n",
        "\n",
        "# checking the shape and the number of null rows:\n",
        "print(reviews.shape)\n",
        "reviews.isnull().sum()"
      ],
      "execution_count": 51,
      "outputs": [
        {
          "output_type": "stream",
          "text": [
            "(84502, 12)\n"
          ],
          "name": "stdout"
        },
        {
          "output_type": "execute_result",
          "data": {
            "text/plain": [
              "order_status             0\n",
              "delivery_in_days         0\n",
              "product_id               0\n",
              "product_category_name    0\n",
              "product_photos_qty       0\n",
              "price                    0\n",
              "freight_value            0\n",
              "payment_type             0\n",
              "payment_installments     0\n",
              "customer_city            0\n",
              "seller_id                0\n",
              "is_good_review           0\n",
              "dtype: int64"
            ]
          },
          "metadata": {
            "tags": []
          },
          "execution_count": 51
        }
      ]
    },
    {
      "cell_type": "markdown",
      "metadata": {
        "id": "o1XPDU-wqOgG",
        "colab_type": "text"
      },
      "source": [
        "Now let's create a boxplot for product_photos_qty to check the presence of outliers:"
      ]
    },
    {
      "cell_type": "code",
      "metadata": {
        "id": "gHIngAYQq1_0",
        "colab_type": "code",
        "colab": {
          "base_uri": "https://localhost:8080/",
          "height": 269
        },
        "outputId": "9c6ecdfa-372b-4563-891f-5348ea061a73"
      },
      "source": [
        "# Ploting the distribution\n",
        "# Showing the presence of outliers in one feature\n",
        "sns.boxplot(y=reviews['product_photos_qty'])"
      ],
      "execution_count": 28,
      "outputs": [
        {
          "output_type": "execute_result",
          "data": {
            "text/plain": [
              "<matplotlib.axes._subplots.AxesSubplot at 0x7f017ed012e8>"
            ]
          },
          "metadata": {
            "tags": []
          },
          "execution_count": 28
        },
        {
          "output_type": "display_data",
          "data": {
            "image/png": "[encoded data removed]",
            "text/plain": [
              "<Figure size 432x288 with 1 Axes>"
            ]
          },
          "metadata": {
            "tags": []
          }
        }
      ]
    },
    {
      "cell_type": "markdown",
      "metadata": {
        "id": "ai5YaVmMpeph",
        "colab_type": "text"
      },
      "source": [
        "We can see that we have indeed many outliers, so let's group the numerical data together and aply the z-scores to clean it."
      ]
    },
    {
      "cell_type": "code",
      "metadata": {
        "id": "zbtImlxo1q0t",
        "colab_type": "code",
        "colab": {
          "base_uri": "https://localhost:8080/",
          "height": 212
        },
        "outputId": "9bea727c-354f-4800-c821-46bcca0f22e1"
      },
      "source": [
        "# Just to make this block of code to work independently, I will recreate the list with numerical columns\n",
        "num_cols_names = reviews.select_dtypes(exclude=['object']).columns\n",
        "\n",
        "# calculate the zscore for the numerical columns\n",
        "z_numbers= np.abs(stats.zscore(reviews[num_cols_names]))\n",
        "\n",
        "# drop the rows with z-scores higher than the threshold 3\n",
        "num_df = reviews[(z_numbers < 3).all(axis=1)]\n",
        "\n",
        "# leave just the numerical columns, we will concatenate it later\n",
        "num_df = num_df[num_cols_names]\n",
        "\n",
        "#checking the size of the dataset after the change\n",
        "print(num_df.shape)\n",
        "num_df.head()"
      ],
      "execution_count": 52,
      "outputs": [
        {
          "output_type": "stream",
          "text": [
            "(79070, 6)\n"
          ],
          "name": "stdout"
        },
        {
          "output_type": "execute_result",
          "data": {
            "text/html": [
              "<div>\n",
              "<style scoped>\n",
              "    .dataframe tbody tr th:only-of-type {\n",
              "        vertical-align: middle;\n",
              "    }\n",
              "\n",
              "    .dataframe tbody tr th {\n",
              "        vertical-align: top;\n",
              "    }\n",
              "\n",
              "    .dataframe thead th {\n",
              "        text-align: right;\n",
              "    }\n",
              "</style>\n",
              "<table border=\"1\" class=\"dataframe\">\n",
              "  <thead>\n",
              "    <tr style=\"text-align: right;\">\n",
              "      <th></th>\n",
              "      <th>delivery_in_days</th>\n",
              "      <th>product_photos_qty</th>\n",
              "      <th>price</th>\n",
              "      <th>freight_value</th>\n",
              "      <th>payment_installments</th>\n",
              "      <th>is_good_review</th>\n",
              "    </tr>\n",
              "  </thead>\n",
              "  <tbody>\n",
              "    <tr>\n",
              "      <th>3</th>\n",
              "      <td>13.0</td>\n",
              "      <td>1.0</td>\n",
              "      <td>118.7</td>\n",
              "      <td>22.76</td>\n",
              "      <td>1.0</td>\n",
              "      <td>1</td>\n",
              "    </tr>\n",
              "    <tr>\n",
              "      <th>4</th>\n",
              "      <td>9.0</td>\n",
              "      <td>1.0</td>\n",
              "      <td>159.9</td>\n",
              "      <td>19.22</td>\n",
              "      <td>3.0</td>\n",
              "      <td>1</td>\n",
              "    </tr>\n",
              "    <tr>\n",
              "      <th>5</th>\n",
              "      <td>13.0</td>\n",
              "      <td>3.0</td>\n",
              "      <td>45.0</td>\n",
              "      <td>27.20</td>\n",
              "      <td>1.0</td>\n",
              "      <td>1</td>\n",
              "    </tr>\n",
              "    <tr>\n",
              "      <th>6</th>\n",
              "      <td>2.0</td>\n",
              "      <td>4.0</td>\n",
              "      <td>19.9</td>\n",
              "      <td>8.72</td>\n",
              "      <td>1.0</td>\n",
              "      <td>1</td>\n",
              "    </tr>\n",
              "    <tr>\n",
              "      <th>7</th>\n",
              "      <td>16.0</td>\n",
              "      <td>1.0</td>\n",
              "      <td>147.9</td>\n",
              "      <td>27.36</td>\n",
              "      <td>6.0</td>\n",
              "      <td>1</td>\n",
              "    </tr>\n",
              "  </tbody>\n",
              "</table>\n",
              "</div>"
            ],
            "text/plain": [
              "   delivery_in_days  product_photos_qty  ...  payment_installments  is_good_review\n",
              "3              13.0                 1.0  ...                   1.0               1\n",
              "4               9.0                 1.0  ...                   3.0               1\n",
              "5              13.0                 3.0  ...                   1.0               1\n",
              "6               2.0                 4.0  ...                   1.0               1\n",
              "7              16.0                 1.0  ...                   6.0               1\n",
              "\n",
              "[5 rows x 6 columns]"
            ]
          },
          "metadata": {
            "tags": []
          },
          "execution_count": 52
        }
      ]
    },
    {
      "cell_type": "markdown",
      "metadata": {
        "id": "VOOD15o73PoU",
        "colab_type": "text"
      },
      "source": [
        "Let's check again the boxplot for product_photo_id:"
      ]
    },
    {
      "cell_type": "code",
      "metadata": {
        "id": "ensG-zIxzFCH",
        "colab_type": "code",
        "colab": {
          "base_uri": "https://localhost:8080/",
          "height": 269
        },
        "outputId": "99a82426-95c4-4f9e-c1a8-6b2a9b3ecbef"
      },
      "source": [
        "# Checking the same column we did the boxplot previously to check if it worked. \n",
        "sns.boxplot(y=num_df['product_photos_qty'])"
      ],
      "execution_count": 54,
      "outputs": [
        {
          "output_type": "execute_result",
          "data": {
            "text/plain": [
              "<matplotlib.axes._subplots.AxesSubplot at 0x7f017fb2e908>"
            ]
          },
          "metadata": {
            "tags": []
          },
          "execution_count": 54
        },
        {
          "output_type": "display_data",
          "data": {
            "image/png": "[encoded data removed]",
            "text/plain": [
              "<Figure size 432x288 with 1 Axes>"
            ]
          },
          "metadata": {
            "tags": []
          }
        }
      ]
    },
    {
      "cell_type": "markdown",
      "metadata": {
        "id": "_1VtxzCT3Wdx",
        "colab_type": "text"
      },
      "source": [
        "Good job! Now we just need to group the data together again. We are going to use concatanation to do that."
      ]
    },
    {
      "cell_type": "code",
      "metadata": {
        "id": "OCl9Hf6X3Ud2",
        "colab_type": "code",
        "colab": {}
      },
      "source": [
        "# Doing the concatanation\n",
        "\n",
        "cat_df = reviews.select_dtypes(include=['object']).copy()\n",
        "reviews_updated = pd.concat((num_df, cat_df), axis=1, join='inner')"
      ],
      "execution_count": 0,
      "outputs": []
    },
    {
      "cell_type": "code",
      "metadata": {
        "id": "_PJ5TQZO3y0_",
        "colab_type": "code",
        "colab": {
          "base_uri": "https://localhost:8080/",
          "height": 302
        },
        "outputId": "f64fcdb7-6a1b-48a8-b5b5-e691330a5bfb"
      },
      "source": [
        "reviews_updated.info()"
      ],
      "execution_count": 58,
      "outputs": [
        {
          "output_type": "stream",
          "text": [
            "<class 'pandas.core.frame.DataFrame'>\n",
            "Int64Index: 79070 entries, 3 to 119150\n",
            "Data columns (total 12 columns):\n",
            "delivery_in_days         79070 non-null float64\n",
            "product_photos_qty       79070 non-null float64\n",
            "price                    79070 non-null float64\n",
            "freight_value            79070 non-null float64\n",
            "payment_installments     79070 non-null float64\n",
            "is_good_review           79070 non-null int64\n",
            "order_status             79070 non-null object\n",
            "product_id               79070 non-null object\n",
            "product_category_name    79070 non-null object\n",
            "payment_type             79070 non-null object\n",
            "customer_city            79070 non-null object\n",
            "seller_id                79070 non-null object\n",
            "dtypes: float64(5), int64(1), object(6)\n",
            "memory usage: 7.8+ MB\n"
          ],
          "name": "stdout"
        }
      ]
    },
    {
      "cell_type": "code",
      "metadata": {
        "id": "sCJWjR4t4vHb",
        "colab_type": "code",
        "colab": {}
      },
      "source": [
        ""
      ],
      "execution_count": 0,
      "outputs": []
    }
  ]
}