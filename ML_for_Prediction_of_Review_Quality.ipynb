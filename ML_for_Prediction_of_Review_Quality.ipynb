{
  "nbformat": 4,
  "nbformat_minor": 0,
  "metadata": {
    "kernelspec": {
      "name": "python3",
      "display_name": "Python 3"
    },
    "language_info": {
      "codemirror_mode": {
        "name": "ipython",
        "version": 3
      },
      "file_extension": ".py",
      "mimetype": "text/x-python",
      "name": "python",
      "nbconvert_exporter": "python",
      "pygments_lexer": "ipython3",
      "version": "3.7.3"
    },
    "toc": {
      "base_numbering": 1,
      "nav_menu": {},
      "number_sections": true,
      "sideBar": true,
      "skip_h1_title": true,
      "title_cell": "Table of Contents",
      "title_sidebar": "Contents",
      "toc_cell": false,
      "toc_position": {
        "height": "calc(100% - 180px)",
        "left": "10px",
        "top": "150px",
        "width": "327.67px"
      },
      "toc_section_display": true,
      "toc_window_display": false
    },
    "colab": {
      "name": "ML for Prediction of Review Quality.ipynb",
      "provenance": [],
      "collapsed_sections": [
        "XgScpc5MsmKM",
        "EjUaN7KJsmXw"
      ],
      "include_colab_link": true
    },
    "accelerator": "GPU"
  },
  "cells": [
    {
      "cell_type": "markdown",
      "metadata": {
        "id": "view-in-github",
        "colab_type": "text"
      },
      "source": [
        "<a href=\"https://colab.research.google.com/github/lucasmoratof/customers_review_project/blob/master/ML_for_Prediction_of_Review_Quality.ipynb\" target=\"_parent\"><img src=\"https://colab.research.google.com/assets/colab-badge.svg\" alt=\"Open In Colab\"/></a>"
      ]
    },
    {
      "cell_type": "markdown",
      "metadata": {
        "id": "bV_G7YHCsl0f",
        "colab_type": "text"
      },
      "source": [
        "# Creating a ML model to predict review quality at OLIST\n",
        "\n",
        "On this notebook we are going to have fun together doing the following steps:\n",
        "\n",
        "- **Merging** the datasets;\n",
        "- Creating the **target feature** and an aditional feature;\n",
        "- Performing **data cleaning**: feature selection and removing null values and outliers;\n",
        "- Pre-processing: feature selection, One Hot Encode for multicategorical features and dealing with unbalanced target data;\n",
        "- Select the best among 3 classifiers: **KNN, Random Forest and SVM**;\n",
        "- Performing **Hyperparameter tunning**;\n",
        "- Using **k-fold** for model validation;\n",
        "- Checking the good stuff that we got."
      ]
    },
    {
      "cell_type": "markdown",
      "metadata": {
        "id": "PMo5QzCdsl0k",
        "colab_type": "text"
      },
      "source": [
        "First, let's start the python party with our best libraries friends:"
      ]
    },
    {
      "cell_type": "code",
      "metadata": {
        "id": "Yw3PrmqJsl0n",
        "colab_type": "code",
        "colab": {}
      },
      "source": [
        "import numpy as np\n",
        "import pandas as pd\n",
        "import matplotlib.pyplot as plt\n",
        "import seaborn as sns\n",
        "from matplotlib import pyplot as plt\n",
        "from functools import reduce\n",
        "from scipy import stats\n",
        "\n",
        "# SKlearn wants to bring almost the whole family:\n",
        "from sklearn.model_selection import train_test_split\n",
        "from sklearn import metrics\n",
        "from sklearn.metrics import classification_report, confusion_matrix\n",
        "from sklearn.model_selection import cross_val_score\n",
        "from sklearn.neighbors import KNeighborsClassifier\n",
        "from sklearn.ensemble import RandomForestClassifier\n",
        "from sklearn.svm import LinearSVC\n",
        "from sklearn.utils import resample\n",
        "from sklearn.model_selection import RandomizedSearchCV\n",
        "\n",
        "pd.set_option('display.max_rows', 500)\n",
        "pd.set_option('display.max_columns', 500)\n",
        "pd.set_option('display.width', 1000)\n",
        "import warnings; warnings.simplefilter('ignore')"
      ],
      "execution_count": 0,
      "outputs": []
    },
    {
      "cell_type": "markdown",
      "metadata": {
        "id": "T0uvIsgUsl4X",
        "colab_type": "text"
      },
      "source": [
        "Now, let's understand how data is organized, and load the datasets:\n",
        "\n",
        "![](https://github.com/olist/work-at-olist-data/raw/master/images/schema.png)\n",
        "*source: [github](https://github.com/olist/work-at-olist-data)* "
      ]
    },
    {
      "cell_type": "code",
      "metadata": {
        "id": "x__hrRCCsl4Z",
        "colab_type": "code",
        "colab": {}
      },
      "source": [
        "# Here we use the link to the raw data hosted at GitHub\n",
        "\n",
        "customers = pd.read_csv('https://raw.githubusercontent.com/olist/work-at-olist-data/master/datasets/olist_customers_dataset.csv')\n",
        "order_items = pd.read_csv('https://raw.githubusercontent.com/olist/work-at-olist-data/master/datasets/olist_order_items_dataset.csv')\n",
        "order_payments = pd.read_csv('https://raw.githubusercontent.com/olist/work-at-olist-data/master/datasets/olist_order_payments_dataset.csv')\n",
        "order_reviews = pd.read_csv('https://raw.githubusercontent.com/olist/work-at-olist-data/master/datasets/olist_order_reviews_dataset.csv')\n",
        "orders= pd.read_csv('https://raw.githubusercontent.com/olist/work-at-olist-data/master/datasets/olist_orders_dataset.csv')\n",
        "products = pd.read_csv('https://raw.githubusercontent.com/olist/work-at-olist-data/master/datasets/olist_products_dataset.csv')\n",
        "sellers = pd.read_csv('https://raw.githubusercontent.com/olist/work-at-olist-data/master/datasets/olist_sellers_dataset.csv')\n",
        "prod_cat_trans = pd.read_csv('https://raw.githubusercontent.com/olist/work-at-olist-data/master/datasets/product_category_name_translation.csv')"
      ],
      "execution_count": 0,
      "outputs": []
    },
    {
      "cell_type": "markdown",
      "metadata": {
        "id": "fp4Xf_WKsl4o",
        "colab_type": "text"
      },
      "source": [
        "## **Merging** the datasets"
      ]
    },
    {
      "cell_type": "markdown",
      "metadata": {
        "id": "ATn3ndu8sl4q",
        "colab_type": "text"
      },
      "source": [
        "Hummm, lot's of good stuff here. We are using all tables except geolocation as it isn't particullary relevant for review analysis. \n",
        "\n",
        "Now, Using the orders table as the core of the process, we will merge everything together, and after we will filter the rows to keep just the **orders which have one product only**."
      ]
    },
    {
      "cell_type": "code",
      "metadata": {
        "scrolled": true,
        "id": "2cl4m2W0sl4r",
        "colab_type": "code",
        "colab": {}
      },
      "source": [
        "# First, we will merge the three datasets that share the same key \"order_id\":\n",
        "\n",
        "dfs = [orders, order_payments, order_reviews, order_items]\n",
        "orders_full = reduce(lambda left, right: pd.merge(left,right, how= 'left', on= 'order_id'), dfs)\n",
        "\n",
        "# Now, adding the remaing dataframes using the usual syntax:\n",
        "orders_cust = orders_full.merge(customers, how= 'left', on= 'customer_id')\n",
        "\n",
        "orders_cust_prod = orders_cust.merge(products, how= 'left', on= 'product_id')\n",
        "\n",
        "final_df = orders_cust_prod.merge(sellers, how= 'left', on='seller_id')"
      ],
      "execution_count": 0,
      "outputs": []
    },
    {
      "cell_type": "code",
      "metadata": {
        "id": "2HfSw4cusl4x",
        "colab_type": "code",
        "outputId": "d5243dc1-730d-47a4-d116-8544ec7408dc",
        "colab": {
          "base_uri": "https://localhost:8080/",
          "height": 84
        }
      },
      "source": [
        "# Now, we need to translate product_category from Portuguse to English:\n",
        "\n",
        "# first, transform the dataframe into a dictionary:\n",
        "cat_dic = dict(zip(prod_cat_trans['product_category_name'], prod_cat_trans['product_category_name_english']))\n",
        "\n",
        "# then, apply the dictionary into the column:\n",
        "final_df[\"product_category_name\"].replace(cat_dic, inplace=True)\n",
        "\n",
        "# now, display the first rows to check if it worked:\n",
        "final_df['product_category_name'].head(3)"
      ],
      "execution_count": 4,
      "outputs": [
        {
          "output_type": "execute_result",
          "data": {
            "text/plain": [
              "0    housewares\n",
              "1    housewares\n",
              "2    housewares\n",
              "Name: product_category_name, dtype: object"
            ]
          },
          "metadata": {
            "tags": []
          },
          "execution_count": 4
        }
      ]
    },
    {
      "cell_type": "code",
      "metadata": {
        "id": "AfUKDKO2sl8d",
        "colab_type": "code",
        "outputId": "b33fb857-3132-4d96-b815-6805d203b9fb",
        "colab": {
          "base_uri": "https://localhost:8080/",
          "height": 33
        }
      },
      "source": [
        "# And finally, removing orders with more than one product\n",
        "\n",
        "final_df.drop_duplicates('order_id', keep=False, inplace=True)\n",
        "\n",
        "# check if it worked (there should be 0 duplicated rows on the column now):\n",
        "final_df['order_id'].duplicated().sum()"
      ],
      "execution_count": 5,
      "outputs": [
        {
          "output_type": "execute_result",
          "data": {
            "text/plain": [
              "0"
            ]
          },
          "metadata": {
            "tags": []
          },
          "execution_count": 5
        }
      ]
    },
    {
      "cell_type": "code",
      "metadata": {
        "id": "Uq_m4_Iwsl8i",
        "colab_type": "code",
        "outputId": "610a5f02-a6c6-4e08-ed47-77fd54c13c57",
        "colab": {
          "base_uri": "https://localhost:8080/",
          "height": 224
        }
      },
      "source": [
        "# Now, let's have a look on the first rows:\n",
        "print(final_df.shape)\n",
        "\n",
        "final_df.head(3)"
      ],
      "execution_count": 6,
      "outputs": [
        {
          "output_type": "stream",
          "text": [
            "(86486, 45)\n"
          ],
          "name": "stdout"
        },
        {
          "output_type": "execute_result",
          "data": {
            "text/html": [
              "<div>\n",
              "<style scoped>\n",
              "    .dataframe tbody tr th:only-of-type {\n",
              "        vertical-align: middle;\n",
              "    }\n",
              "\n",
              "    .dataframe tbody tr th {\n",
              "        vertical-align: top;\n",
              "    }\n",
              "\n",
              "    .dataframe thead th {\n",
              "        text-align: right;\n",
              "    }\n",
              "</style>\n",
              "<table border=\"1\" class=\"dataframe\">\n",
              "  <thead>\n",
              "    <tr style=\"text-align: right;\">\n",
              "      <th></th>\n",
              "      <th>order_id</th>\n",
              "      <th>customer_id</th>\n",
              "      <th>order_status</th>\n",
              "      <th>order_purchase_timestamp</th>\n",
              "      <th>order_approved_at</th>\n",
              "      <th>order_delivered_carrier_date</th>\n",
              "      <th>order_delivered_customer_date</th>\n",
              "      <th>order_estimated_delivery_date</th>\n",
              "      <th>payment_sequential</th>\n",
              "      <th>payment_type</th>\n",
              "      <th>payment_installments</th>\n",
              "      <th>payment_value</th>\n",
              "      <th>review_id</th>\n",
              "      <th>review_score</th>\n",
              "      <th>review_comment_title</th>\n",
              "      <th>review_comment_message</th>\n",
              "      <th>review_creation_date</th>\n",
              "      <th>review_answer_timestamp</th>\n",
              "      <th>Unnamed: 7</th>\n",
              "      <th>Unnamed: 8</th>\n",
              "      <th>Unnamed: 9</th>\n",
              "      <th>Unnamed: 10</th>\n",
              "      <th>Unnamed: 11</th>\n",
              "      <th>Unnamed: 12</th>\n",
              "      <th>order_item_id</th>\n",
              "      <th>product_id</th>\n",
              "      <th>seller_id</th>\n",
              "      <th>shipping_limit_date</th>\n",
              "      <th>price</th>\n",
              "      <th>freight_value</th>\n",
              "      <th>customer_unique_id</th>\n",
              "      <th>customer_zip_code_prefix</th>\n",
              "      <th>customer_city</th>\n",
              "      <th>customer_state</th>\n",
              "      <th>product_category_name</th>\n",
              "      <th>product_name_lenght</th>\n",
              "      <th>product_description_lenght</th>\n",
              "      <th>product_photos_qty</th>\n",
              "      <th>product_weight_g</th>\n",
              "      <th>product_length_cm</th>\n",
              "      <th>product_height_cm</th>\n",
              "      <th>product_width_cm</th>\n",
              "      <th>seller_zip_code_prefix</th>\n",
              "      <th>seller_city</th>\n",
              "      <th>seller_state</th>\n",
              "    </tr>\n",
              "  </thead>\n",
              "  <tbody>\n",
              "    <tr>\n",
              "      <th>3</th>\n",
              "      <td>53cdb2fc8bc7dce0b6741e2150273451</td>\n",
              "      <td>b0830fb4747a6c6d20dea0b8c802d7ef</td>\n",
              "      <td>delivered</td>\n",
              "      <td>2018-07-24 20:41:37</td>\n",
              "      <td>2018-07-26 03:24:27</td>\n",
              "      <td>2018-07-26 14:31:00</td>\n",
              "      <td>2018-08-07 15:27:45</td>\n",
              "      <td>2018-08-13 00:00:00</td>\n",
              "      <td>1.0</td>\n",
              "      <td>boleto</td>\n",
              "      <td>1.0</td>\n",
              "      <td>141.46</td>\n",
              "      <td>8d5266042046a06655c8db133d120ba5</td>\n",
              "      <td>4</td>\n",
              "      <td>Muito boa a loja</td>\n",
              "      <td>Muito bom o produto.</td>\n",
              "      <td>2018-08-08 00:00:00</td>\n",
              "      <td>2018-08-08 18:37:50</td>\n",
              "      <td>NaN</td>\n",
              "      <td>NaN</td>\n",
              "      <td>NaN</td>\n",
              "      <td>NaN</td>\n",
              "      <td>NaN</td>\n",
              "      <td>NaN</td>\n",
              "      <td>1.0</td>\n",
              "      <td>595fac2a385ac33a80bd5114aec74eb8</td>\n",
              "      <td>289cdb325fb7e7f891c38608bf9e0962</td>\n",
              "      <td>2018-07-30 03:24:27</td>\n",
              "      <td>118.7</td>\n",
              "      <td>22.76</td>\n",
              "      <td>af07308b275d755c9edb36a90c618231</td>\n",
              "      <td>47813</td>\n",
              "      <td>barreiras</td>\n",
              "      <td>BA</td>\n",
              "      <td>perfumery</td>\n",
              "      <td>29.0</td>\n",
              "      <td>178.0</td>\n",
              "      <td>1.0</td>\n",
              "      <td>400.0</td>\n",
              "      <td>19.0</td>\n",
              "      <td>13.0</td>\n",
              "      <td>19.0</td>\n",
              "      <td>31570.0</td>\n",
              "      <td>belo horizonte</td>\n",
              "      <td>SP</td>\n",
              "    </tr>\n",
              "    <tr>\n",
              "      <th>4</th>\n",
              "      <td>47770eb9100c2d0c44946d9cf07ec65d</td>\n",
              "      <td>41ce2a54c0b03bf3443c3d931a367089</td>\n",
              "      <td>delivered</td>\n",
              "      <td>2018-08-08 08:38:49</td>\n",
              "      <td>2018-08-08 08:55:23</td>\n",
              "      <td>2018-08-08 13:50:00</td>\n",
              "      <td>2018-08-17 18:06:29</td>\n",
              "      <td>2018-09-04 00:00:00</td>\n",
              "      <td>1.0</td>\n",
              "      <td>credit_card</td>\n",
              "      <td>3.0</td>\n",
              "      <td>179.12</td>\n",
              "      <td>e73b67b67587f7644d5bd1a52deb1b01</td>\n",
              "      <td>5</td>\n",
              "      <td>NaN</td>\n",
              "      <td>NaN</td>\n",
              "      <td>2018-08-18 00:00:00</td>\n",
              "      <td>2018-08-22 19:07:58</td>\n",
              "      <td>NaN</td>\n",
              "      <td>NaN</td>\n",
              "      <td>NaN</td>\n",
              "      <td>NaN</td>\n",
              "      <td>NaN</td>\n",
              "      <td>NaN</td>\n",
              "      <td>1.0</td>\n",
              "      <td>aa4383b373c6aca5d8797843e5594415</td>\n",
              "      <td>4869f7a5dfa277a7dca6462dcf3b52b2</td>\n",
              "      <td>2018-08-13 08:55:23</td>\n",
              "      <td>159.9</td>\n",
              "      <td>19.22</td>\n",
              "      <td>3a653a41f6f9fc3d2a113cf8398680e8</td>\n",
              "      <td>75265</td>\n",
              "      <td>vianopolis</td>\n",
              "      <td>GO</td>\n",
              "      <td>auto</td>\n",
              "      <td>46.0</td>\n",
              "      <td>232.0</td>\n",
              "      <td>1.0</td>\n",
              "      <td>420.0</td>\n",
              "      <td>24.0</td>\n",
              "      <td>19.0</td>\n",
              "      <td>21.0</td>\n",
              "      <td>14840.0</td>\n",
              "      <td>guariba</td>\n",
              "      <td>SP</td>\n",
              "    </tr>\n",
              "    <tr>\n",
              "      <th>5</th>\n",
              "      <td>949d5b44dbf5de918fe9c16f97b45f8a</td>\n",
              "      <td>f88197465ea7920adcdbec7375364d82</td>\n",
              "      <td>delivered</td>\n",
              "      <td>2017-11-18 19:28:06</td>\n",
              "      <td>2017-11-18 19:45:59</td>\n",
              "      <td>2017-11-22 13:39:59</td>\n",
              "      <td>2017-12-02 00:28:42</td>\n",
              "      <td>2017-12-15 00:00:00</td>\n",
              "      <td>1.0</td>\n",
              "      <td>credit_card</td>\n",
              "      <td>1.0</td>\n",
              "      <td>72.20</td>\n",
              "      <td>359d03e676b3c069f62cadba8dd3f6e8</td>\n",
              "      <td>5</td>\n",
              "      <td>NaN</td>\n",
              "      <td>O produto foi exatamente o que eu esperava e e...</td>\n",
              "      <td>2017-12-03 00:00:00</td>\n",
              "      <td>2017-12-05 19:21:58</td>\n",
              "      <td>NaN</td>\n",
              "      <td>NaN</td>\n",
              "      <td>NaN</td>\n",
              "      <td>NaN</td>\n",
              "      <td>NaN</td>\n",
              "      <td>NaN</td>\n",
              "      <td>1.0</td>\n",
              "      <td>d0b61bfb1de832b15ba9d266ca96e5b0</td>\n",
              "      <td>66922902710d126a0e7d26b0e3805106</td>\n",
              "      <td>2017-11-23 19:45:59</td>\n",
              "      <td>45.0</td>\n",
              "      <td>27.20</td>\n",
              "      <td>7c142cf63193a1473d2e66489a9ae977</td>\n",
              "      <td>59296</td>\n",
              "      <td>sao goncalo do amarante</td>\n",
              "      <td>RN</td>\n",
              "      <td>pet_shop</td>\n",
              "      <td>59.0</td>\n",
              "      <td>468.0</td>\n",
              "      <td>3.0</td>\n",
              "      <td>450.0</td>\n",
              "      <td>30.0</td>\n",
              "      <td>10.0</td>\n",
              "      <td>20.0</td>\n",
              "      <td>31842.0</td>\n",
              "      <td>belo horizonte</td>\n",
              "      <td>MG</td>\n",
              "    </tr>\n",
              "  </tbody>\n",
              "</table>\n",
              "</div>"
            ],
            "text/plain": [
              "                           order_id                       customer_id order_status order_purchase_timestamp    order_approved_at order_delivered_carrier_date order_delivered_customer_date order_estimated_delivery_date  payment_sequential payment_type  payment_installments  payment_value                         review_id  review_score review_comment_title                             review_comment_message review_creation_date review_answer_timestamp Unnamed: 7 Unnamed: 8 Unnamed: 9 Unnamed: 10 Unnamed: 11 Unnamed: 12  order_item_id                        product_id                         seller_id  shipping_limit_date  price  freight_value                customer_unique_id  customer_zip_code_prefix            customer_city customer_state product_category_name  product_name_lenght  product_description_lenght  product_photos_qty  product_weight_g  product_length_cm  product_height_cm  product_width_cm  seller_zip_code_prefix     seller_city seller_state\n",
              "3  53cdb2fc8bc7dce0b6741e2150273451  b0830fb4747a6c6d20dea0b8c802d7ef    delivered      2018-07-24 20:41:37  2018-07-26 03:24:27          2018-07-26 14:31:00           2018-08-07 15:27:45           2018-08-13 00:00:00                 1.0       boleto                   1.0         141.46  8d5266042046a06655c8db133d120ba5             4     Muito boa a loja                               Muito bom o produto.  2018-08-08 00:00:00     2018-08-08 18:37:50        NaN        NaN        NaN         NaN         NaN         NaN            1.0  595fac2a385ac33a80bd5114aec74eb8  289cdb325fb7e7f891c38608bf9e0962  2018-07-30 03:24:27  118.7          22.76  af07308b275d755c9edb36a90c618231                     47813                barreiras             BA             perfumery                 29.0                       178.0                 1.0             400.0               19.0               13.0              19.0                 31570.0  belo horizonte           SP\n",
              "4  47770eb9100c2d0c44946d9cf07ec65d  41ce2a54c0b03bf3443c3d931a367089    delivered      2018-08-08 08:38:49  2018-08-08 08:55:23          2018-08-08 13:50:00           2018-08-17 18:06:29           2018-09-04 00:00:00                 1.0  credit_card                   3.0         179.12  e73b67b67587f7644d5bd1a52deb1b01             5                  NaN                                                NaN  2018-08-18 00:00:00     2018-08-22 19:07:58        NaN        NaN        NaN         NaN         NaN         NaN            1.0  aa4383b373c6aca5d8797843e5594415  4869f7a5dfa277a7dca6462dcf3b52b2  2018-08-13 08:55:23  159.9          19.22  3a653a41f6f9fc3d2a113cf8398680e8                     75265               vianopolis             GO                  auto                 46.0                       232.0                 1.0             420.0               24.0               19.0              21.0                 14840.0         guariba           SP\n",
              "5  949d5b44dbf5de918fe9c16f97b45f8a  f88197465ea7920adcdbec7375364d82    delivered      2017-11-18 19:28:06  2017-11-18 19:45:59          2017-11-22 13:39:59           2017-12-02 00:28:42           2017-12-15 00:00:00                 1.0  credit_card                   1.0          72.20  359d03e676b3c069f62cadba8dd3f6e8             5                  NaN  O produto foi exatamente o que eu esperava e e...  2017-12-03 00:00:00     2017-12-05 19:21:58        NaN        NaN        NaN         NaN         NaN         NaN            1.0  d0b61bfb1de832b15ba9d266ca96e5b0  66922902710d126a0e7d26b0e3805106  2017-11-23 19:45:59   45.0          27.20  7c142cf63193a1473d2e66489a9ae977                     59296  sao goncalo do amarante             RN              pet_shop                 59.0                       468.0                 3.0             450.0               30.0               10.0              20.0                 31842.0  belo horizonte           MG"
            ]
          },
          "metadata": {
            "tags": []
          },
          "execution_count": 6
        }
      ]
    },
    {
      "cell_type": "markdown",
      "metadata": {
        "id": "uipRiOZSsl8n",
        "colab_type": "text"
      },
      "source": [
        "## Creating the target feature and an aditional feature"
      ]
    },
    {
      "cell_type": "markdown",
      "metadata": {
        "id": "y7Ux7tXEsl8p",
        "colab_type": "text"
      },
      "source": [
        "Our focus here is to discover if a review will be good or not, which is a yes or no question. In our dataset we have the column *reviews_scores*, which has values from 1 to 5, where 1 is bad and 5 is excellent. \n",
        "\n",
        "To transforme this into a binary value, we will do the following:\n",
        "\n",
        "- Transform values 1, 2 and 3 into 0, meaning it is not a good review;\n",
        "- Values 4 and 5 will be cosidered a good review, with value 1."
      ]
    },
    {
      "cell_type": "code",
      "metadata": {
        "id": "ak6G4_-Zsl8q",
        "colab_type": "code",
        "colab": {}
      },
      "source": [
        "# The following code will create a new column 'is_good_review', which will evaluate the 'review_score'. If the value is equal or less than 3,\n",
        "# it returns 1 if review is higher than 3, otherwise it returns 0.\n",
        "\n",
        "final_df['is_good_review'] = final_df['review_score'].apply(lambda x: 1 if x > 3 else 0)"
      ],
      "execution_count": 0,
      "outputs": []
    },
    {
      "cell_type": "markdown",
      "metadata": {
        "id": "GpQqWK64sl8y",
        "colab_type": "text"
      },
      "source": [
        "Now, we are going to create a new feature with the difference in days between an order and the delivery. To accomplish this, we need first to convert the columns into date format and then perform the aritimetical operation, keeping just the number of days:"
      ]
    },
    {
      "cell_type": "code",
      "metadata": {
        "id": "6kkBpgUzsl80",
        "colab_type": "code",
        "outputId": "5aba7a9c-07b3-438f-a234-364ceaaa9c1e",
        "colab": {
          "base_uri": "https://localhost:8080/",
          "height": 33
        }
      },
      "source": [
        "# converting dates for datetime format\n",
        "final_df[['order_purchase_timestamp','order_delivered_customer_date']] =\\\n",
        "final_df[['order_purchase_timestamp','order_delivered_customer_date']].apply(pd.to_datetime, format='%Y-%m-%d')\n",
        "\n",
        "# Check data type\n",
        "final_df['order_purchase_timestamp'].dtype # the result could be also <M8[ns], which means a datatime64"
      ],
      "execution_count": 8,
      "outputs": [
        {
          "output_type": "execute_result",
          "data": {
            "text/plain": [
              "dtype('<M8[ns]')"
            ]
          },
          "metadata": {
            "tags": []
          },
          "execution_count": 8
        }
      ]
    },
    {
      "cell_type": "code",
      "metadata": {
        "id": "q9IB6UQKsl85",
        "colab_type": "code",
        "outputId": "f6ac5c07-b65e-4ce6-ccf4-476b59b208cf",
        "colab": {
          "base_uri": "https://localhost:8080/",
          "height": 117
        }
      },
      "source": [
        "final_df['delivery_in_days'] = (final_df['order_delivered_customer_date'] - final_df['order_purchase_timestamp']).dt.days\n",
        "\n",
        "final_df['delivery_in_days'].head()"
      ],
      "execution_count": 9,
      "outputs": [
        {
          "output_type": "execute_result",
          "data": {
            "text/plain": [
              "3    13.0\n",
              "4     9.0\n",
              "5    13.0\n",
              "6     2.0\n",
              "7    16.0\n",
              "Name: delivery_in_days, dtype: float64"
            ]
          },
          "metadata": {
            "tags": []
          },
          "execution_count": 9
        }
      ]
    },
    {
      "cell_type": "markdown",
      "metadata": {
        "id": "0GiCdJ1lsl_l",
        "colab_type": "text"
      },
      "source": [
        "## Data cleaning: feature selection and removing null values and outliers"
      ]
    },
    {
      "cell_type": "markdown",
      "metadata": {
        "id": "IrdaBueqsl_n",
        "colab_type": "text"
      },
      "source": [
        "Feature Selection"
      ]
    },
    {
      "cell_type": "markdown",
      "metadata": {
        "id": "vGnuTx_-sl_q",
        "colab_type": "text"
      },
      "source": [
        "From the available features, I've decided to keep 12, including the target feature:"
      ]
    },
    {
      "cell_type": "code",
      "metadata": {
        "id": "lgHpCKNUsl_s",
        "colab_type": "code",
        "outputId": "97b14ca4-2895-4920-fa14-02dfc8050a1d",
        "colab": {
          "base_uri": "https://localhost:8080/",
          "height": 33
        }
      },
      "source": [
        "columns = ['order_status','delivery_in_days', 'product_id','product_category_name','product_photos_qty','price',\n",
        "           'freight_value','payment_type','payment_installments','customer_city','seller_id','is_good_review']\n",
        "\n",
        "final_df = final_df[columns]\n",
        "\n",
        "print(final_df.shape)"
      ],
      "execution_count": 10,
      "outputs": [
        {
          "output_type": "stream",
          "text": [
            "(86486, 12)\n"
          ],
          "name": "stdout"
        }
      ]
    },
    {
      "cell_type": "markdown",
      "metadata": {
        "id": "9KX4-nxlsl_x",
        "colab_type": "text"
      },
      "source": [
        "[](http://)**Null Values**"
      ]
    },
    {
      "cell_type": "code",
      "metadata": {
        "id": "S6niYzw7sl_z",
        "colab_type": "code",
        "outputId": "514b6bba-ea11-4193-fb3f-4fda8900490a",
        "colab": {
          "base_uri": "https://localhost:8080/",
          "height": 251
        }
      },
      "source": [
        "# Checking the null values:\n",
        "\n",
        "print('Percentage of missing values by feature')\n",
        "final_df.isnull().sum() *100 / len(final_df)"
      ],
      "execution_count": 11,
      "outputs": [
        {
          "output_type": "stream",
          "text": [
            "Percentage of missing values by feature\n"
          ],
          "name": "stdout"
        },
        {
          "output_type": "execute_result",
          "data": {
            "text/plain": [
              "order_status             0.000000\n",
              "delivery_in_days         3.113799\n",
              "product_id               0.863724\n",
              "product_category_name    2.294013\n",
              "product_photos_qty       2.294013\n",
              "price                    0.863724\n",
              "freight_value            0.863724\n",
              "payment_type             0.000000\n",
              "payment_installments     0.000000\n",
              "customer_city            0.000000\n",
              "seller_id                0.863724\n",
              "is_good_review           0.000000\n",
              "dtype: float64"
            ]
          },
          "metadata": {
            "tags": []
          },
          "execution_count": 11
        }
      ]
    },
    {
      "cell_type": "code",
      "metadata": {
        "id": "Qc_qmRihsl_5",
        "colab_type": "code",
        "outputId": "8dfe07c7-e1fa-4a00-8db8-08ddeea24ac4",
        "colab": {
          "base_uri": "https://localhost:8080/",
          "height": 397
        }
      },
      "source": [
        "# Ploting the distribution of null values\n",
        "sns.heatmap(final_df.isnull())"
      ],
      "execution_count": 12,
      "outputs": [
        {
          "output_type": "execute_result",
          "data": {
            "text/plain": [
              "<matplotlib.axes._subplots.AxesSubplot at 0x7f7ac621d128>"
            ]
          },
          "metadata": {
            "tags": []
          },
          "execution_count": 12
        },
        {
          "output_type": "display_data",
          "data": {
            "image/png": "[encoded data removed]",
            "text/plain": [
              "<Figure size 432x288 with 2 Axes>"
            ]
          },
          "metadata": {
            "tags": []
          }
        }
      ]
    },
    {
      "cell_type": "markdown",
      "metadata": {
        "id": "2jLnfQTfsl_-",
        "colab_type": "text"
      },
      "source": [
        "We have 3 columns with more than 1% of missing values. My approach will be:\n",
        "\n",
        "- Fill the delivery in days with the mean value;\n",
        "- As the amount of pictures can have impact on the review, I will replace the null values for 0;\n",
        "- Product_id cannot be replaced, as it represents a category, so I'll drop the missing rows for it and all the other one with less than 1% of null values."
      ]
    },
    {
      "cell_type": "code",
      "metadata": {
        "id": "UcjDlbXysl__",
        "colab_type": "code",
        "outputId": "dcf1ae60-2b21-4cc3-a8f9-23b0dc5c78cd",
        "colab": {
          "base_uri": "https://localhost:8080/",
          "height": 251
        }
      },
      "source": [
        "# filling the delivery days with the mean value:\n",
        "final_df['delivery_in_days'].fillna(final_df['delivery_in_days'].mean(), inplace= True)\n",
        "\n",
        "# fill product photos with 0\n",
        "final_df['product_photos_qty'].fillna(value= 0, inplace=True)\n",
        "\n",
        "# Dropping all other rows with null values:\n",
        "final_df.dropna(how='any', axis=0, inplace=True)\n",
        "\n",
        "# checking the shape and the number of null rows:\n",
        "print(final_df.shape)\n",
        "final_df.isnull().sum()"
      ],
      "execution_count": 13,
      "outputs": [
        {
          "output_type": "stream",
          "text": [
            "(84502, 12)\n"
          ],
          "name": "stdout"
        },
        {
          "output_type": "execute_result",
          "data": {
            "text/plain": [
              "order_status             0\n",
              "delivery_in_days         0\n",
              "product_id               0\n",
              "product_category_name    0\n",
              "product_photos_qty       0\n",
              "price                    0\n",
              "freight_value            0\n",
              "payment_type             0\n",
              "payment_installments     0\n",
              "customer_city            0\n",
              "seller_id                0\n",
              "is_good_review           0\n",
              "dtype: int64"
            ]
          },
          "metadata": {
            "tags": []
          },
          "execution_count": 13
        }
      ]
    },
    {
      "cell_type": "markdown",
      "metadata": {
        "id": "3U15WF2XsmDZ",
        "colab_type": "text"
      },
      "source": [
        "**Outliers**"
      ]
    },
    {
      "cell_type": "markdown",
      "metadata": {
        "id": "VjuIHnUxsmDb",
        "colab_type": "text"
      },
      "source": [
        "To try to identify if we have outliers, we will check the stats for the numerical columns and plot a boxplot of one of the features:"
      ]
    },
    {
      "cell_type": "code",
      "metadata": {
        "id": "M6ntdVsfsmDd",
        "colab_type": "code",
        "outputId": "e301f725-5c19-4b59-abd2-246f2f92850b",
        "colab": {
          "base_uri": "https://localhost:8080/",
          "height": 286
        }
      },
      "source": [
        "# Checking the stats\n",
        "num_cols_names = final_df.select_dtypes(exclude=['object']).columns\n",
        "num_df = final_df[num_cols_names]\n",
        "\n",
        "num_df.describe()"
      ],
      "execution_count": 14,
      "outputs": [
        {
          "output_type": "execute_result",
          "data": {
            "text/html": [
              "<div>\n",
              "<style scoped>\n",
              "    .dataframe tbody tr th:only-of-type {\n",
              "        vertical-align: middle;\n",
              "    }\n",
              "\n",
              "    .dataframe tbody tr th {\n",
              "        vertical-align: top;\n",
              "    }\n",
              "\n",
              "    .dataframe thead th {\n",
              "        text-align: right;\n",
              "    }\n",
              "</style>\n",
              "<table border=\"1\" class=\"dataframe\">\n",
              "  <thead>\n",
              "    <tr style=\"text-align: right;\">\n",
              "      <th></th>\n",
              "      <th>delivery_in_days</th>\n",
              "      <th>product_photos_qty</th>\n",
              "      <th>price</th>\n",
              "      <th>freight_value</th>\n",
              "      <th>payment_installments</th>\n",
              "      <th>is_good_review</th>\n",
              "    </tr>\n",
              "  </thead>\n",
              "  <tbody>\n",
              "    <tr>\n",
              "      <th>count</th>\n",
              "      <td>84502.000000</td>\n",
              "      <td>84502.000000</td>\n",
              "      <td>84502.000000</td>\n",
              "      <td>84502.000000</td>\n",
              "      <td>84502.000000</td>\n",
              "      <td>84502.000000</td>\n",
              "    </tr>\n",
              "    <tr>\n",
              "      <th>mean</th>\n",
              "      <td>12.155481</td>\n",
              "      <td>2.283331</td>\n",
              "      <td>130.471586</td>\n",
              "      <td>20.442660</td>\n",
              "      <td>2.891932</td>\n",
              "      <td>0.788798</td>\n",
              "    </tr>\n",
              "    <tr>\n",
              "      <th>std</th>\n",
              "      <td>9.515094</td>\n",
              "      <td>1.764627</td>\n",
              "      <td>196.431864</td>\n",
              "      <td>16.308875</td>\n",
              "      <td>2.662628</td>\n",
              "      <td>0.408164</td>\n",
              "    </tr>\n",
              "    <tr>\n",
              "      <th>min</th>\n",
              "      <td>0.000000</td>\n",
              "      <td>1.000000</td>\n",
              "      <td>0.850000</td>\n",
              "      <td>0.000000</td>\n",
              "      <td>0.000000</td>\n",
              "      <td>0.000000</td>\n",
              "    </tr>\n",
              "    <tr>\n",
              "      <th>25%</th>\n",
              "      <td>6.000000</td>\n",
              "      <td>1.000000</td>\n",
              "      <td>44.900000</td>\n",
              "      <td>13.430000</td>\n",
              "      <td>1.000000</td>\n",
              "      <td>1.000000</td>\n",
              "    </tr>\n",
              "    <tr>\n",
              "      <th>50%</th>\n",
              "      <td>10.000000</td>\n",
              "      <td>2.000000</td>\n",
              "      <td>79.990000</td>\n",
              "      <td>16.490000</td>\n",
              "      <td>2.000000</td>\n",
              "      <td>1.000000</td>\n",
              "    </tr>\n",
              "    <tr>\n",
              "      <th>75%</th>\n",
              "      <td>15.000000</td>\n",
              "      <td>3.000000</td>\n",
              "      <td>144.990000</td>\n",
              "      <td>21.420000</td>\n",
              "      <td>4.000000</td>\n",
              "      <td>1.000000</td>\n",
              "    </tr>\n",
              "    <tr>\n",
              "      <th>max</th>\n",
              "      <td>209.000000</td>\n",
              "      <td>20.000000</td>\n",
              "      <td>6735.000000</td>\n",
              "      <td>409.680000</td>\n",
              "      <td>24.000000</td>\n",
              "      <td>1.000000</td>\n",
              "    </tr>\n",
              "  </tbody>\n",
              "</table>\n",
              "</div>"
            ],
            "text/plain": [
              "       delivery_in_days  product_photos_qty         price  freight_value  payment_installments  is_good_review\n",
              "count      84502.000000        84502.000000  84502.000000   84502.000000          84502.000000    84502.000000\n",
              "mean          12.155481            2.283331    130.471586      20.442660              2.891932        0.788798\n",
              "std            9.515094            1.764627    196.431864      16.308875              2.662628        0.408164\n",
              "min            0.000000            1.000000      0.850000       0.000000              0.000000        0.000000\n",
              "25%            6.000000            1.000000     44.900000      13.430000              1.000000        1.000000\n",
              "50%           10.000000            2.000000     79.990000      16.490000              2.000000        1.000000\n",
              "75%           15.000000            3.000000    144.990000      21.420000              4.000000        1.000000\n",
              "max          209.000000           20.000000   6735.000000     409.680000             24.000000        1.000000"
            ]
          },
          "metadata": {
            "tags": []
          },
          "execution_count": 14
        }
      ]
    },
    {
      "cell_type": "code",
      "metadata": {
        "id": "4pWuQ2v-smDj",
        "colab_type": "code",
        "outputId": "94e18d86-755c-4ad6-e2ec-7cc7717608a1",
        "colab": {
          "base_uri": "https://localhost:8080/",
          "height": 269
        }
      },
      "source": [
        "# Showing the presence of outliers in a feature\n",
        "sns.boxplot(y=num_df['product_photos_qty'])"
      ],
      "execution_count": 15,
      "outputs": [
        {
          "output_type": "execute_result",
          "data": {
            "text/plain": [
              "<matplotlib.axes._subplots.AxesSubplot at 0x7f7ac26879e8>"
            ]
          },
          "metadata": {
            "tags": []
          },
          "execution_count": 15
        },
        {
          "output_type": "display_data",
          "data": {
            "image/png": "[encoded data removed]",
            "text/plain": [
              "<Figure size 432x288 with 1 Axes>"
            ]
          },
          "metadata": {
            "tags": []
          }
        }
      ]
    },
    {
      "cell_type": "markdown",
      "metadata": {
        "id": "4-JRaV72smHK",
        "colab_type": "text"
      },
      "source": [
        "Both approaches showed that we have indeed outliers in our data, that we need to remove before going to modeling it.\n",
        "\n",
        "As a solution to deal with outliers on the dataset, I will use the z-score in all numerical features, dropping the values with values higher them the threshold of 3. \n",
        "\n",
        "If you want to understand more about why I'm using this approach, you can check the explantion **[here](https://medium.com/datadriveninvestor/outliers-no-more-using-the-power-of-z-score-against-the-evil-eb50fd914b29?)**."
      ]
    },
    {
      "cell_type": "code",
      "metadata": {
        "id": "4G_iRXN5smHM",
        "colab_type": "code",
        "outputId": "19868dd5-fa86-42e6-cc53-429c99a88832",
        "colab": {
          "base_uri": "https://localhost:8080/",
          "height": 213
        }
      },
      "source": [
        "# Calculate the zscore for each feature\n",
        "z_numbers= np.abs(stats.zscore(num_df)) \n",
        "\n",
        "# drop the rows with z-scores higher than the threshold 3\n",
        "num_df = final_df[(z_numbers < 3).all(axis=1)]\n",
        "\n",
        "# leave just the numerical columns, we will concatenate it later\n",
        "num_df = num_df[num_cols_names]\n",
        "\n",
        "#checking the size of the dataset after the change\n",
        "print(num_df.shape)\n",
        "num_df.head()"
      ],
      "execution_count": 16,
      "outputs": [
        {
          "output_type": "stream",
          "text": [
            "(79070, 6)\n"
          ],
          "name": "stdout"
        },
        {
          "output_type": "execute_result",
          "data": {
            "text/html": [
              "<div>\n",
              "<style scoped>\n",
              "    .dataframe tbody tr th:only-of-type {\n",
              "        vertical-align: middle;\n",
              "    }\n",
              "\n",
              "    .dataframe tbody tr th {\n",
              "        vertical-align: top;\n",
              "    }\n",
              "\n",
              "    .dataframe thead th {\n",
              "        text-align: right;\n",
              "    }\n",
              "</style>\n",
              "<table border=\"1\" class=\"dataframe\">\n",
              "  <thead>\n",
              "    <tr style=\"text-align: right;\">\n",
              "      <th></th>\n",
              "      <th>delivery_in_days</th>\n",
              "      <th>product_photos_qty</th>\n",
              "      <th>price</th>\n",
              "      <th>freight_value</th>\n",
              "      <th>payment_installments</th>\n",
              "      <th>is_good_review</th>\n",
              "    </tr>\n",
              "  </thead>\n",
              "  <tbody>\n",
              "    <tr>\n",
              "      <th>3</th>\n",
              "      <td>13.0</td>\n",
              "      <td>1.0</td>\n",
              "      <td>118.7</td>\n",
              "      <td>22.76</td>\n",
              "      <td>1.0</td>\n",
              "      <td>1</td>\n",
              "    </tr>\n",
              "    <tr>\n",
              "      <th>4</th>\n",
              "      <td>9.0</td>\n",
              "      <td>1.0</td>\n",
              "      <td>159.9</td>\n",
              "      <td>19.22</td>\n",
              "      <td>3.0</td>\n",
              "      <td>1</td>\n",
              "    </tr>\n",
              "    <tr>\n",
              "      <th>5</th>\n",
              "      <td>13.0</td>\n",
              "      <td>3.0</td>\n",
              "      <td>45.0</td>\n",
              "      <td>27.20</td>\n",
              "      <td>1.0</td>\n",
              "      <td>1</td>\n",
              "    </tr>\n",
              "    <tr>\n",
              "      <th>6</th>\n",
              "      <td>2.0</td>\n",
              "      <td>4.0</td>\n",
              "      <td>19.9</td>\n",
              "      <td>8.72</td>\n",
              "      <td>1.0</td>\n",
              "      <td>1</td>\n",
              "    </tr>\n",
              "    <tr>\n",
              "      <th>7</th>\n",
              "      <td>16.0</td>\n",
              "      <td>1.0</td>\n",
              "      <td>147.9</td>\n",
              "      <td>27.36</td>\n",
              "      <td>6.0</td>\n",
              "      <td>1</td>\n",
              "    </tr>\n",
              "  </tbody>\n",
              "</table>\n",
              "</div>"
            ],
            "text/plain": [
              "   delivery_in_days  product_photos_qty  price  freight_value  payment_installments  is_good_review\n",
              "3              13.0                 1.0  118.7          22.76                   1.0               1\n",
              "4               9.0                 1.0  159.9          19.22                   3.0               1\n",
              "5              13.0                 3.0   45.0          27.20                   1.0               1\n",
              "6               2.0                 4.0   19.9           8.72                   1.0               1\n",
              "7              16.0                 1.0  147.9          27.36                   6.0               1"
            ]
          },
          "metadata": {
            "tags": []
          },
          "execution_count": 16
        }
      ]
    },
    {
      "cell_type": "code",
      "metadata": {
        "id": "bAFbHSPhsmKH",
        "colab_type": "code",
        "outputId": "c9de2293-8d42-47b4-bed6-fc2b86c28571",
        "colab": {
          "base_uri": "https://localhost:8080/",
          "height": 269
        }
      },
      "source": [
        "# Checking the same column we did the boxplot previously to check if it worked. \n",
        "sns.boxplot(y=num_df['product_photos_qty'])"
      ],
      "execution_count": 17,
      "outputs": [
        {
          "output_type": "execute_result",
          "data": {
            "text/plain": [
              "<matplotlib.axes._subplots.AxesSubplot at 0x7f7ac21ba208>"
            ]
          },
          "metadata": {
            "tags": []
          },
          "execution_count": 17
        },
        {
          "output_type": "display_data",
          "data": {
            "image/png": "[encoded data removed]",
            "text/plain": [
              "<Figure size 432x288 with 1 Axes>"
            ]
          },
          "metadata": {
            "tags": []
          }
        }
      ]
    },
    {
      "cell_type": "markdown",
      "metadata": {
        "id": "XgScpc5MsmKM",
        "colab_type": "text"
      },
      "source": [
        "## Pre-processing: feature selection, One Hot Encode for multicategorical features and dealing with unbalanced target data."
      ]
    },
    {
      "cell_type": "markdown",
      "metadata": {
        "id": "fAKC7wxpsmKN",
        "colab_type": "text"
      },
      "source": [
        "Now, we need to transform the categorical features into numerical. Let's check how many factors each one has:"
      ]
    },
    {
      "cell_type": "code",
      "metadata": {
        "id": "L-tv9a0SsmKO",
        "colab_type": "code",
        "outputId": "5ad52ad5-e5f1-4ef1-deb6-e1bb6095726a",
        "colab": {
          "base_uri": "https://localhost:8080/",
          "height": 0
        }
      },
      "source": [
        "# Separate the categorical data, later we will combine with the numerical data again:\n",
        "\n",
        "cat_df = final_df.select_dtypes(include=['object']).copy()\n",
        "\n",
        "for col in cat_df:\n",
        "    print(col, 'has:', cat_df[col].value_counts().count(), 'categories')"
      ],
      "execution_count": 18,
      "outputs": [
        {
          "output_type": "stream",
          "text": [
            "order_status has: 7 categories\n",
            "product_id has: 28189 categories\n",
            "product_category_name has: 73 categories\n",
            "payment_type has: 4 categories\n",
            "customer_city has: 3975 categories\n",
            "seller_id has: 2912 categories\n"
          ],
          "name": "stdout"
        }
      ]
    },
    {
      "cell_type": "markdown",
      "metadata": {
        "id": "kVEEHYt4smKT",
        "colab_type": "text"
      },
      "source": [
        "We have features with 4 categories until almost 4 thousand categories, so the approach will be different for each one.\n",
        "\n",
        "- For payment_type and order_status, as they have less than 10 categories each, I will just replace the values for numbers using a dictionary and the replace function;\n",
        "\n",
        "- For the remaining features, one solution could be replacing each category to a number, but this would affect my model, as it can understand that city '1' has somehow more value than city '3345'. The approach I've chosen is to perform one hot encode, which creates one feature for each category, with the binary attribute 0 or 1. However, as I have thousands of different cities and products, I will follow what was suggested [here](http://proceedings.mlr.press/v7/niculescu09/niculescu09.pdf), where they used the top 10 of each of the categories, so, if the row contains a category not present on the top 10, the value will be zero, otherwise, it will be one. This way I will prevent to create too many new features."
      ]
    },
    {
      "cell_type": "markdown",
      "metadata": {
        "id": "gJmE59FbsmKV",
        "colab_type": "text"
      },
      "source": [
        "**Applying replace within a dictionary of values**"
      ]
    },
    {
      "cell_type": "code",
      "metadata": {
        "id": "6piRa-VzsmKW",
        "colab_type": "code",
        "colab": {}
      },
      "source": [
        "# Applying replace() over payment_type and order_status\n",
        "\n",
        "replace_map = {'order_status': {'delivered':1, 'shipped':2, 'canceled':3, 'invoiced':4,\n",
        "                               'processing':5, 'unavailable':6, 'approved':7},\n",
        "              'payment_type': {'credit_card':1, 'boleto':2, 'debit_card':3, 'voucher':4}}\n",
        "\n",
        "cat_df.replace(replace_map, inplace=True)"
      ],
      "execution_count": 0,
      "outputs": []
    },
    {
      "cell_type": "markdown",
      "metadata": {
        "id": "o7IPmRoysmKb",
        "colab_type": "text"
      },
      "source": [
        "**Handlng Multi Categorical Data: One Hot Encode** \n",
        "\n",
        "I've created the following function, that will do:\n",
        "\n",
        "- 1: Create a top_x rank with the category names (the value of 'x' is one of the arguments, so the rank is customizable)\n",
        "- 2: Use the values of the top_x categories to create the new columns, with value 1 when the row is from that category, and 0 when it's not.\n",
        "\n",
        "I've decided to use just the top ten values to avoid the creation of hundreds of new features, that would make the job of the algorithms almost impossible."
      ]
    },
    {
      "cell_type": "code",
      "metadata": {
        "id": "bLUXX5X_smKd",
        "colab_type": "code",
        "colab": {}
      },
      "source": [
        "def one_hot_top(df, variable, top_x):\n",
        "    \n",
        "    # making the rank for the variable:\n",
        "    top_labels = [x for x in df[variable].value_counts().sort_values(ascending=False).head(top_x).index]\n",
        "    \n",
        "    # using the top list to create the new features:\n",
        "    for label in top_labels:\n",
        "        df[label] = np.where(df[variable]== label, 1, 0)\n",
        "    \n",
        "    # droping the original column as it wouldn't be used on the model\n",
        "    df.drop(variable, axis=1, inplace=True)"
      ],
      "execution_count": 0,
      "outputs": []
    },
    {
      "cell_type": "markdown",
      "metadata": {
        "id": "rfUF-p-BsmKh",
        "colab_type": "text"
      },
      "source": [
        "Applying the function into the data frame:"
      ]
    },
    {
      "cell_type": "code",
      "metadata": {
        "id": "5KmUVFalsmKj",
        "colab_type": "code",
        "colab": {}
      },
      "source": [
        "cols = ['product_id','product_category_name', 'customer_city','seller_id']\n",
        "\n",
        "for col in cols:\n",
        "    one_hot_top(cat_df, col, 10)"
      ],
      "execution_count": 0,
      "outputs": []
    },
    {
      "cell_type": "markdown",
      "metadata": {
        "id": "-6epS4MpsmKn",
        "colab_type": "text"
      },
      "source": [
        "**Concatenating the categorical and numerical variables**"
      ]
    },
    {
      "cell_type": "code",
      "metadata": {
        "id": "5chwkiWOsmNf",
        "colab_type": "code",
        "outputId": "57b933cd-12ce-4ca3-b211-4e62f14197bf",
        "colab": {
          "base_uri": "https://localhost:8080/",
          "height": 0
        }
      },
      "source": [
        "print(num_df.shape, cat_df.shape)"
      ],
      "execution_count": 22,
      "outputs": [
        {
          "output_type": "stream",
          "text": [
            "(79070, 6) (84502, 42)\n"
          ],
          "name": "stdout"
        }
      ]
    },
    {
      "cell_type": "markdown",
      "metadata": {
        "id": "XkdC43eysmNk",
        "colab_type": "text"
      },
      "source": [
        "We can see that *cat_df* has more rows, this is due the fact that we didn't pass it through the z-score filter, so we need to specify in the concat to do *join='inner'*, and pass *num_df* first, so it will join by the index just the rows from *cat_df* that are in *num_df*."
      ]
    },
    {
      "cell_type": "code",
      "metadata": {
        "id": "YJOs0QYAsmNm",
        "colab_type": "code",
        "colab": {}
      },
      "source": [
        "# Doing the concatanation\n",
        "model_df = pd.concat((num_df, cat_df), axis=1, join='inner')"
      ],
      "execution_count": 0,
      "outputs": []
    },
    {
      "cell_type": "code",
      "metadata": {
        "id": "q9zsS2OCsmNr",
        "colab_type": "code",
        "outputId": "cdd7d6da-145d-4ab1-bdd6-f5567ce976a7",
        "colab": {
          "base_uri": "https://localhost:8080/",
          "height": 0
        }
      },
      "source": [
        "# check the shape again\n",
        "model_df.shape"
      ],
      "execution_count": 24,
      "outputs": [
        {
          "output_type": "execute_result",
          "data": {
            "text/plain": [
              "(79070, 48)"
            ]
          },
          "metadata": {
            "tags": []
          },
          "execution_count": 24
        }
      ]
    },
    {
      "cell_type": "markdown",
      "metadata": {
        "id": "GgmVnjPNsmNv",
        "colab_type": "text"
      },
      "source": [
        "**Dealing with unbalanced target data**"
      ]
    },
    {
      "cell_type": "code",
      "metadata": {
        "id": "QthkmjZ7smNw",
        "colab_type": "code",
        "outputId": "228fd6d8-5b16-41bf-b598-938ed60523bd",
        "colab": {
          "base_uri": "https://localhost:8080/",
          "height": 0
        }
      },
      "source": [
        "# Ploting the target distribution\n",
        "sns.countplot(x='is_good_review', data=model_df, palette=(\"Blues_d\"))\n",
        "plt.xticks([0,1],['No','Yes'])\n",
        "plt.title(\"Distribution of target 'is_good_review'\")\n",
        "plt.show()"
      ],
      "execution_count": 25,
      "outputs": [
        {
          "output_type": "display_data",
          "data": {
            "image/png": "[encoded data removed]",
            "text/plain": [
              "<Figure size 432x288 with 1 Axes>"
            ]
          },
          "metadata": {
            "tags": []
          }
        }
      ]
    },
    {
      "cell_type": "markdown",
      "metadata": {
        "id": "WuTrJE_7smN4",
        "colab_type": "text"
      },
      "source": [
        "We can see that there's way around 25% of bad reviews and 75% of good ones. This unbalanced data would negatively affect our models, so we need to deal with that. There is some possibilities, like:\n",
        "\n",
        "- Upsample minority class;\n",
        "- Undersample majority class;\n",
        "- Generate synthetic samples;\n",
        "\n",
        "To guarantee we will have enough data to run reliable models, the approach we are going to use is to upsample the less represented class."
      ]
    },
    {
      "cell_type": "code",
      "metadata": {
        "id": "mhNdS2_TsmN8",
        "colab_type": "code",
        "outputId": "9051fbe7-0b04-4445-d50e-5b7bbfd4ff89",
        "colab": {
          "base_uri": "https://localhost:8080/",
          "height": 0
        }
      },
      "source": [
        "# separate features and target\n",
        "y= model_df['is_good_review']\n",
        "X= model_df.drop('is_good_review', axis=1)\n",
        "\n",
        "# Setting up train and test again\n",
        "X_train, X_test, y_train, y_test = train_test_split(X, y, test_size=0.3, random_state=24)\n",
        "\n",
        "# concatanate the training data back together\n",
        "X= pd.concat([X_train, y_train], axis=1)\n",
        "\n",
        "# separate minority and majority classes\n",
        "good_r = model_df[model_df['is_good_review']== 1]\n",
        "bad_r = model_df[model_df['is_good_review']== 0]\n",
        "\n",
        "# upsample minority class\n",
        "bad_r_upsampled = resample(bad_r,\n",
        "                          replace=True,\n",
        "                          n_samples= len(good_r),\n",
        "                          random_state= 24)\n",
        "\n",
        "# combine good and bad revies samples\n",
        "model_df= pd.concat([good_r, bad_r_upsampled])\n",
        "\n",
        "# check new class counts\n",
        "model_df['is_good_review'].value_counts()"
      ],
      "execution_count": 26,
      "outputs": [
        {
          "output_type": "execute_result",
          "data": {
            "text/plain": [
              "1    63322\n",
              "0    63322\n",
              "Name: is_good_review, dtype: int64"
            ]
          },
          "metadata": {
            "tags": []
          },
          "execution_count": 26
        }
      ]
    },
    {
      "cell_type": "code",
      "metadata": {
        "id": "539eMxcEsmOD",
        "colab_type": "code",
        "outputId": "8f1e2a68-bb8a-4cd2-f2f3-56140a11eba0",
        "colab": {
          "base_uri": "https://localhost:8080/",
          "height": 0
        }
      },
      "source": [
        "# Let's check the barchart to see if it worked.\n",
        "sns.countplot(x='is_good_review', data=model_df, palette=(\"Blues_d\"))"
      ],
      "execution_count": 27,
      "outputs": [
        {
          "output_type": "execute_result",
          "data": {
            "text/plain": [
              "<matplotlib.axes._subplots.AxesSubplot at 0x7f7ac2094f28>"
            ]
          },
          "metadata": {
            "tags": []
          },
          "execution_count": 27
        },
        {
          "output_type": "display_data",
          "data": {
            "image/png": "[encoded data removed]",
            "text/plain": [
              "<Figure size 432x288 with 1 Axes>"
            ]
          },
          "metadata": {
            "tags": []
          }
        }
      ]
    },
    {
      "cell_type": "code",
      "metadata": {
        "id": "Z11wYPzvsmQo",
        "colab_type": "code",
        "outputId": "3859ecf9-ec59-46d1-f67b-06c875cd9083",
        "colab": {
          "base_uri": "https://localhost:8080/",
          "height": 0
        }
      },
      "source": [
        "model_df.shape"
      ],
      "execution_count": 28,
      "outputs": [
        {
          "output_type": "execute_result",
          "data": {
            "text/plain": [
              "(126644, 48)"
            ]
          },
          "metadata": {
            "tags": []
          },
          "execution_count": 28
        }
      ]
    },
    {
      "cell_type": "markdown",
      "metadata": {
        "id": "xqZeNPUnsmQu",
        "colab_type": "text"
      },
      "source": [
        "## Select the best among 3 classifiers: KNN, Random Forest and SVM\n",
        "\n",
        "To choose which algortihm to use, we need first to clearly state our question:\n",
        "\n",
        "**\"We want to predict if an order review will be positive or not\"**\n",
        "\n",
        "It's a binary classification problem, so my first approach will be to try 3 different classification methods:\n",
        "\n",
        "- K-nearest neighbors (KNN);\n",
        "- Random Forest;\n",
        "- Support Vector Machine;\n",
        "\n",
        "After analyzing the accuracy and recall of each one, select the algorithm which offers the most promising result."
      ]
    },
    {
      "cell_type": "markdown",
      "metadata": {
        "id": "IbOqUbw1smQv",
        "colab_type": "text"
      },
      "source": [
        "** How could we test the three algorithms?**\n",
        "\n",
        "Our approach is to follow the steps below:\n",
        "\n",
        "- Try the algorithm using the default parameters;\n",
        "- Run a loop with different values for one of the parameters of each algorithm;\n",
        "- Plot the accuracy results;\n",
        "- Print the confusion matrix for the best result."
      ]
    },
    {
      "cell_type": "markdown",
      "metadata": {
        "id": "eWF_WJl9smQw",
        "colab_type": "text"
      },
      "source": [
        "**Setting the basics: splitting the data into training and testing sets:**"
      ]
    },
    {
      "cell_type": "code",
      "metadata": {
        "id": "5JxQjtYKsmQy",
        "colab_type": "code",
        "outputId": "c9f61d9d-6ed7-414e-ea35-f63676d78c2e",
        "colab": {
          "base_uri": "https://localhost:8080/",
          "height": 50
        }
      },
      "source": [
        "# Checking the size of train and test objects\n",
        "print('y_train and y_test shapes:', y_train.shape, 'and', y_test.shape)\n",
        "print('X_train and X_test shapes:', X_train.shape, 'and', X_test.shape)"
      ],
      "execution_count": 29,
      "outputs": [
        {
          "output_type": "stream",
          "text": [
            "y_train and y_test shapes: (55349,) and (23721,)\n",
            "X_train and X_test shapes: (55349, 47) and (23721, 47)\n"
          ],
          "name": "stdout"
        }
      ]
    },
    {
      "cell_type": "markdown",
      "metadata": {
        "id": "FX7BIMlVsmQ6",
        "colab_type": "text"
      },
      "source": [
        "### KNN "
      ]
    },
    {
      "cell_type": "markdown",
      "metadata": {
        "id": "ToAg0hOvsmQ7",
        "colab_type": "text"
      },
      "source": [
        "In the first KNN interaction, I will use 7 neighbors."
      ]
    },
    {
      "cell_type": "code",
      "metadata": {
        "id": "o8xU1ZBysmQ8",
        "colab_type": "code",
        "outputId": "9bbbd7fc-e6d1-4357-e4bb-78eda3bbe59f",
        "colab": {
          "base_uri": "https://localhost:8080/",
          "height": 167
        }
      },
      "source": [
        "# start the model\n",
        "knn_model = KNeighborsClassifier() # using the default n_neighbors=5\n",
        "\n",
        "# Fit the model into the train data\n",
        "knn_model.fit(X_train, y_train)\n",
        "\n",
        "# Predict on the test data\n",
        "knn_y_pred = knn_model.predict(X_test)\n",
        "\n",
        "# Check accuracy \n",
        "print(classification_report(y_test, knn_y_pred))"
      ],
      "execution_count": 30,
      "outputs": [
        {
          "output_type": "stream",
          "text": [
            "              precision    recall  f1-score   support\n",
            "\n",
            "           0       0.49      0.18      0.26      4784\n",
            "           1       0.82      0.95      0.88     18937\n",
            "\n",
            "    accuracy                           0.80     23721\n",
            "   macro avg       0.65      0.57      0.57     23721\n",
            "weighted avg       0.75      0.80      0.76     23721\n",
            "\n"
          ],
          "name": "stdout"
        }
      ]
    },
    {
      "cell_type": "code",
      "metadata": {
        "id": "P7zIRlQNsmRD",
        "colab_type": "code",
        "outputId": "107631b5-469c-4165-dbfa-915656467f5e",
        "colab": {
          "base_uri": "https://localhost:8080/",
          "height": 296
        }
      },
      "source": [
        "# now we will change the number of neighboors. The function below will retrieve accuracy for the range from 1 to 30\n",
        "knn_range = range(1, 31)\n",
        "knn_scores = {}\n",
        "knn_scores_list = []\n",
        "\n",
        "for k in knn_range:\n",
        "    knn = KNeighborsClassifier(n_neighbors= k)\n",
        "    knn.fit(X_train, y_train)\n",
        "    knn_y_pred = knn.predict(X_test)\n",
        "    knn_scores[k] = metrics.accuracy_score(y_test, knn_y_pred)\n",
        "    knn_scores_list.append(metrics.accuracy_score(y_test, knn_y_pred))\n",
        "    \n",
        "# Now using the values of the loop to plot a graph with the performance\n",
        "# ploting the relationship between K and the testing accuracy:\n",
        "%matplotlib inline\n",
        "plt.plot(knn_range, knn_scores_list)\n",
        "plt.xlabel('Value of K for KNN')\n",
        "plt.ylabel('Testing Accuracy')"
      ],
      "execution_count": 31,
      "outputs": [
        {
          "output_type": "execute_result",
          "data": {
            "text/plain": [
              "Text(0, 0.5, 'Testing Accuracy')"
            ]
          },
          "metadata": {
            "tags": []
          },
          "execution_count": 31
        },
        {
          "output_type": "display_data",
          "data": {
            "image/png": "[encoded data removed]",
            "text/plain": [
              "<Figure size 432x288 with 1 Axes>"
            ]
          },
          "metadata": {
            "tags": []
          }
        }
      ]
    },
    {
      "cell_type": "markdown",
      "metadata": {
        "id": "eFYLI5BRsmRH",
        "colab_type": "text"
      },
      "source": [
        "The plot shows that the optimal value is k=15. Let's check it's performance and see the confusion matrix:"
      ]
    },
    {
      "cell_type": "markdown",
      "metadata": {
        "id": "C6t7KphAsmRI",
        "colab_type": "text"
      },
      "source": [
        "### Random Forest"
      ]
    },
    {
      "cell_type": "markdown",
      "metadata": {
        "id": "RgDGabtQsmRJ",
        "colab_type": "text"
      },
      "source": [
        "As before, I will start with a random number of estimator, or tress. 100 is actually the default parameter of this classifier. "
      ]
    },
    {
      "cell_type": "code",
      "metadata": {
        "id": "MwTh1ziFsmUS",
        "colab_type": "code",
        "outputId": "72783147-ff25-4455-ec6a-ec73db165b6e",
        "colab": {
          "base_uri": "https://localhost:8080/",
          "height": 167
        }
      },
      "source": [
        "# starting the model\n",
        "rf_model = RandomForestClassifier(random_state=24) # n_estimators=10\n",
        "\n",
        "# Fit\n",
        "rf_model.fit(X_train, y_train)\n",
        "\n",
        "# And predict\n",
        "rf_y_pred = rf_model.predict(X_test)\n",
        "\n",
        "# And finally, check the accuracy of our result\n",
        "print(metrics.classification_report(y_test, rf_y_pred))"
      ],
      "execution_count": 32,
      "outputs": [
        {
          "output_type": "stream",
          "text": [
            "              precision    recall  f1-score   support\n",
            "\n",
            "           0       0.64      0.24      0.35      4784\n",
            "           1       0.83      0.97      0.90     18937\n",
            "\n",
            "    accuracy                           0.82     23721\n",
            "   macro avg       0.74      0.60      0.62     23721\n",
            "weighted avg       0.80      0.82      0.79     23721\n",
            "\n"
          ],
          "name": "stdout"
        }
      ]
    },
    {
      "cell_type": "code",
      "metadata": {
        "id": "0IObJVsdsmUW",
        "colab_type": "code",
        "outputId": "fc989f43-3fd9-4f6f-d65b-d3d834d44e2a",
        "colab": {
          "base_uri": "https://localhost:8080/",
          "height": 296
        }
      },
      "source": [
        "# on this model, we will try different values for the n_estimator parameter\n",
        "rf_range = range(100, 1100, 100)\n",
        "scores = {}\n",
        "scores_list = []\n",
        "\n",
        "for k in rf_range:\n",
        "    rf_model = RandomForestClassifier(n_estimators=k)\n",
        "    rf_model.fit(X_train, y_train)\n",
        "    rf_y_pred = rf_model.predict(X_test)\n",
        "    scores[k] = metrics.accuracy_score(y_test, rf_y_pred)\n",
        "    scores_list.append(metrics.accuracy_score(y_test, rf_y_pred))\n",
        "    \n",
        "# ploting the relationship between K and the testing accuracy:\n",
        "%matplotlib inline\n",
        "plt.plot(rf_range, scores_list)\n",
        "plt.xlabel('Value of Estimators for Random Forest')\n",
        "plt.ylabel('Testing Accuracy')"
      ],
      "execution_count": 33,
      "outputs": [
        {
          "output_type": "execute_result",
          "data": {
            "text/plain": [
              "Text(0, 0.5, 'Testing Accuracy')"
            ]
          },
          "metadata": {
            "tags": []
          },
          "execution_count": 33
        },
        {
          "output_type": "display_data",
          "data": {
            "image/png": "[encoded data removed]",
            "text/plain": [
              "<Figure size 432x288 with 1 Axes>"
            ]
          },
          "metadata": {
            "tags": []
          }
        }
      ]
    },
    {
      "cell_type": "markdown",
      "metadata": {
        "id": "zzuLqP2hsmUf",
        "colab_type": "text"
      },
      "source": [
        "Best performance was achieved with 1000 trees. Let's check the results:"
      ]
    },
    {
      "cell_type": "code",
      "metadata": {
        "id": "Mm7Yn68GsmUg",
        "colab_type": "code",
        "outputId": "4b513e81-050e-4cf2-8e65-e653f0f10e5a",
        "colab": {
          "base_uri": "https://localhost:8080/",
          "height": 167
        }
      },
      "source": [
        "# checking performance with 1000 trees\n",
        "rf_model = RandomForestClassifier(n_estimators=1000, random_state=24)\n",
        "rf_model.fit(X_train, y_train)\n",
        "rf_y_pred = rf_model.predict(X_test)\n",
        "print(metrics.classification_report(y_test, rf_y_pred))"
      ],
      "execution_count": 34,
      "outputs": [
        {
          "output_type": "stream",
          "text": [
            "              precision    recall  f1-score   support\n",
            "\n",
            "           0       0.66      0.24      0.35      4784\n",
            "           1       0.83      0.97      0.90     18937\n",
            "\n",
            "    accuracy                           0.82     23721\n",
            "   macro avg       0.75      0.60      0.62     23721\n",
            "weighted avg       0.80      0.82      0.79     23721\n",
            "\n"
          ],
          "name": "stdout"
        }
      ]
    },
    {
      "cell_type": "markdown",
      "metadata": {
        "id": "9BulwmPksmUk",
        "colab_type": "text"
      },
      "source": [
        "Checking the results it's possible to conclude that there wasn't a significant change on the precision or recall between 10 and 600 trees. The accuracy went from 80% to 82%, and the recall for no positive reviews decreased from 29% to 23%."
      ]
    },
    {
      "cell_type": "markdown",
      "metadata": {
        "id": "ASOm-6ZwsmUl",
        "colab_type": "text"
      },
      "source": [
        "### Support Vector Machines"
      ]
    },
    {
      "cell_type": "code",
      "metadata": {
        "id": "Z1H65GS-smUm",
        "colab_type": "code",
        "outputId": "8e8f8509-cc97-40e4-bf83-88b54bc8f647",
        "colab": {
          "base_uri": "https://localhost:8080/",
          "height": 167
        }
      },
      "source": [
        "svm_model = LinearSVC(random_state=24) # default max_iter=1000\n",
        "\n",
        "svm_model.fit(X_train, y_train)\n",
        "\n",
        "svm_y_pred = svm_model.predict(X_test)\n",
        "\n",
        "print(metrics.classification_report(y_test, svm_y_pred))"
      ],
      "execution_count": 35,
      "outputs": [
        {
          "output_type": "stream",
          "text": [
            "              precision    recall  f1-score   support\n",
            "\n",
            "           0       0.23      0.75      0.35      4784\n",
            "           1       0.85      0.37      0.51     18937\n",
            "\n",
            "    accuracy                           0.44     23721\n",
            "   macro avg       0.54      0.56      0.43     23721\n",
            "weighted avg       0.73      0.44      0.48     23721\n",
            "\n"
          ],
          "name": "stdout"
        }
      ]
    },
    {
      "cell_type": "code",
      "metadata": {
        "id": "R2y09LNxsmUr",
        "colab_type": "code",
        "outputId": "22bfb84d-ec74-4a72-9821-402ade7fb8a4",
        "colab": {
          "base_uri": "https://localhost:8080/",
          "height": 296
        }
      },
      "source": [
        "# the parameter we will change here is the max_iter\n",
        "sv_range = range(1000, 16000, 1000)\n",
        "sv_scores = {}\n",
        "sv_scores_list = []\n",
        "\n",
        "for it in sv_range:\n",
        "    sv_model = LinearSVC(max_iter= it)\n",
        "    sv_model.fit(X_train, y_train)\n",
        "    sv_y_pred = sv_model.predict(X_test)\n",
        "    sv_scores[k] = metrics.accuracy_score(y_test, sv_y_pred)\n",
        "    sv_scores_list.append(metrics.accuracy_score(y_test, sv_y_pred))\n",
        "    \n",
        "# Now using the values of the loop to plot a graph with the performance\n",
        "# ploting the relationship between K and the testing accuracy:\n",
        "%matplotlib inline\n",
        "plt.plot(sv_range, sv_scores_list)\n",
        "plt.xlabel('Value of Iterations for SV')\n",
        "plt.ylabel('Testing Accuracy')"
      ],
      "execution_count": 36,
      "outputs": [
        {
          "output_type": "execute_result",
          "data": {
            "text/plain": [
              "Text(0, 0.5, 'Testing Accuracy')"
            ]
          },
          "metadata": {
            "tags": []
          },
          "execution_count": 36
        },
        {
          "output_type": "display_data",
          "data": {
            "image/png": "[encoded data removed]",
            "text/plain": [
              "<Figure size 432x288 with 1 Axes>"
            ]
          },
          "metadata": {
            "tags": []
          }
        }
      ]
    },
    {
      "cell_type": "code",
      "metadata": {
        "id": "6KxLuoeusmUw",
        "colab_type": "code",
        "outputId": "432f2e27-f7b2-4dcf-9620-480dd28fbb43",
        "colab": {
          "base_uri": "https://localhost:8080/",
          "height": 33
        }
      },
      "source": [
        "max(sv_scores)"
      ],
      "execution_count": 37,
      "outputs": [
        {
          "output_type": "execute_result",
          "data": {
            "text/plain": [
              "1000"
            ]
          },
          "metadata": {
            "tags": []
          },
          "execution_count": 37
        }
      ]
    },
    {
      "cell_type": "markdown",
      "metadata": {
        "id": "ooOzCd4MsmXv",
        "colab_type": "text"
      },
      "source": [
        "The accuracy level didn't change with the increase of maximum iterations, so for comparison with the other models it will be used the previous result with the default value of 1000 maximum iterations"
      ]
    },
    {
      "cell_type": "markdown",
      "metadata": {
        "id": "EjUaN7KJsmXw",
        "colab_type": "text"
      },
      "source": [
        "### Based on the results, the Random Forest is the most promising algorithm, as it has a recall and F1 scores higher than the other two."
      ]
    },
    {
      "cell_type": "markdown",
      "metadata": {
        "id": "aPlkQjZUsmXx",
        "colab_type": "text"
      },
      "source": [
        "## Performing Hyperparameter tunning"
      ]
    },
    {
      "cell_type": "code",
      "metadata": {
        "id": "Ygi3uxl1smXy",
        "colab_type": "code",
        "outputId": "6f975513-cf51-47fa-88ec-4ef0e7168408",
        "colab": {
          "base_uri": "https://localhost:8080/",
          "height": 50
        }
      },
      "source": [
        "# First, create a list with the hyper parameters we want to change\n",
        "\n",
        "# number of trees in random forest\n",
        "n_estimators = [int(x) for x in np.linspace(start = 200, stop = 2000, num = 10)]\n",
        "# number of features at every split\n",
        "max_features = ['auto', 'sqrt']\n",
        "# max depth\n",
        "max_depth = [int(x) for x in np.linspace(100, 500, num = 10)]\n",
        "max_depth.append(None)\n",
        "\n",
        "# Now, create a grid\n",
        "random_grid = {\n",
        " 'n_estimators': n_estimators,\n",
        " 'max_features': max_features,\n",
        " 'max_depth': max_depth\n",
        " }\n",
        "\n",
        "# Instatiate the classifier\n",
        "rfc = RandomForestClassifier(n_jobs=-1)\n",
        "\n",
        "# Random search of parameters\n",
        "rfc_random = RandomizedSearchCV(estimator = rfc, param_distributions = random_grid, n_iter = 100, cv = 5,\\\n",
        "                                verbose=2, random_state=24, n_jobs = -1)\n",
        "\n",
        "# Fit the model\n",
        "best_model = rfc_random.fit(X_train, y_train)\n",
        "\n",
        "# print results\n",
        "print(best_model.best_params_)\n",
        "print(best_model.best_score_)"
      ],
      "execution_count": 0,
      "outputs": [
        {
          "output_type": "stream",
          "text": [
            "Fitting 5 folds for each of 100 candidates, totalling 500 fits\n"
          ],
          "name": "stdout"
        },
        {
          "output_type": "stream",
          "text": [
            "[Parallel(n_jobs=-1)]: Using backend LokyBackend with 2 concurrent workers.\n"
          ],
          "name": "stderr"
        }
      ]
    },
    {
      "cell_type": "markdown",
      "metadata": {
        "id": "R4R4AasGsmX2",
        "colab_type": "text"
      },
      "source": [
        "# Evaluating Performance"
      ]
    },
    {
      "cell_type": "code",
      "metadata": {
        "id": "ZTqyHTXasmX3",
        "colab_type": "code",
        "colab": {}
      },
      "source": [
        "upsampled_model = RandomForestClassifier(n_estimators=1000,\n",
        "                                        max_features= 'auto',\n",
        "                                        max_depth= 233).fit(X_train, y_train)\n",
        "\n",
        "# prediction\n",
        "upsampled_pred = upsampled_model.predict(X_test)"
      ],
      "execution_count": 0,
      "outputs": []
    },
    {
      "cell_type": "code",
      "metadata": {
        "id": "GTU6wqcLsmX6",
        "colab_type": "code",
        "colab": {}
      },
      "source": [
        "# Now we are going to evaluate results with cross validation, AUC-ROC\n",
        "rf_cv_score = cross_val_score(upsampled_model, X, y, cv=10, scoring='roc_auc')"
      ],
      "execution_count": 0,
      "outputs": []
    },
    {
      "cell_type": "code",
      "metadata": {
        "id": "b9v6dje5smX-",
        "colab_type": "code",
        "colab": {}
      },
      "source": [
        "# And finally, let's display the results:\n",
        "\n",
        "print(\"=== Confusion Matrix ===\")\n",
        "print(confusion_matrix(y_test, upsampled_pred))\n",
        "print('\\n')\n",
        "print(\"=== Classification Report ===\")\n",
        "print(classification_report(y_test, upsampled_pred))\n",
        "print('\\n')\n",
        "print(\"=== All AUC Scores ===\")\n",
        "print(rf_cv_score)\n",
        "print('\\n')\n",
        "print(\"=== Mean AUC Score ===\")\n",
        "print(\"Mean AUC Score - Random Forest: \", rf_cv_score.mean())"
      ],
      "execution_count": 0,
      "outputs": []
    },
    {
      "cell_type": "markdown",
      "metadata": {
        "id": "JyKCAe5gsmYB",
        "colab_type": "text"
      },
      "source": [
        "This is a massive improvement, let's compare:\n",
        "\n",
        "- Increase from 82% to 93% accuracy;\n",
        "- Minority class: recall augmented from 30% to 96%\n",
        "- Majority class: recall reduced from 96% to 93%"
      ]
    }
  ]
}